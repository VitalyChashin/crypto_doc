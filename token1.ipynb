{
 "cells": [
  {
   "cell_type": "markdown",
   "id": "ffefcf6d",
   "metadata": {},
   "source": [
    "## Модель\n",
    "\n",
    "Используется следующая формула:\n",
    "\n",
    "Coins = a*Q*exp(-d*Q) + b\n",
    "\n",
    "где Coins - количество токенов, а Q - качество.\n",
    "\n",
    "Для поиска коэффициентов используются две известные точки, а именно начальная точка и точка окончательной эмиссии всех токенов (берется условно 5 лет до этого момента).\n",
    "\n",
    "Параметры модели:\n"
   ]
  },
  {
   "cell_type": "code",
   "execution_count": 12,
   "id": "8fb80ab7",
   "metadata": {},
   "outputs": [],
   "source": [
    "import numpy as np\n",
    "\n",
    "Q0 = 0.3 #качество в первой точке\n",
    "Qmax = 5 #качество во второй точке\n",
    "TotalCoins = 1000000000 #общая эмиссия\n",
    "Coins0 = 100000000 #эмиссия в начальной точке"
   ]
  },
  {
   "cell_type": "markdown",
   "id": "c0538d7b",
   "metadata": {},
   "source": [
    "Рассчитываем параметры модели:"
   ]
  },
  {
   "cell_type": "code",
   "execution_count": 32,
   "id": "26526662",
   "metadata": {},
   "outputs": [
    {
     "name": "stdout",
     "output_type": "stream",
     "text": [
      "d:0.1311034339199611\n",
      "a:346704912.0107226\n"
     ]
    }
   ],
   "source": [
    "\n",
    "\n",
    "\n",
    "b = Coins0\n",
    "\n",
    "a=0\n",
    "\n",
    "d=0\n",
    "\n",
    "def calccoeff(CoinsSt,Qst,Qmax,CoinsMax):\n",
    "    if CoinsSt==b:\n",
    "        part1 = CoinsSt/Qst\n",
    "    else:\n",
    "        part1=(CoinsSt-b)/Qst\n",
    "    part2 = (CoinsMax - CoinsSt)/Qmax\n",
    "    part3 = part2/part1\n",
    "    part4=np.log(part3)\n",
    "    d=part4/(Qst-Qmax)\n",
    "    part5=np.exp((-1)*d*Qmax)*Qmax\n",
    "    a=(CoinsMax-b)/part5\n",
    "    return (a,d)\n",
    "    \n",
    "\n",
    "(a,d)=calccoeff(b,Q0,Qmax,TotalCoins)\n",
    "\n",
    "print(\"d:\"+str(d))\n",
    "\n",
    "print(\"a:\"+str(a))\n"
   ]
  },
  {
   "cell_type": "markdown",
   "id": "93933a87",
   "metadata": {},
   "source": [
    "Теперь мы можем рассчитать эмиссию для любого качества, например, для первого квартала (Q = 1)"
   ]
  },
  {
   "cell_type": "code",
   "execution_count": 35,
   "id": "d9c69c62",
   "metadata": {},
   "outputs": [
    {
     "name": "stdout",
     "output_type": "stream",
     "text": [
      "Эмиссия: 404104254.9625237\n"
     ]
    }
   ],
   "source": [
    "def emission(q,a,d,b):\n",
    "    return a*q*np.exp((-1)*d*q)+b\n",
    "\n",
    "Q1=1\n",
    "\n",
    "EmQ1=emission(Q1,a,d,b)\n",
    "\n",
    "print(\"Эмиссия: \"+str(EmQ1))"
   ]
  },
  {
   "cell_type": "markdown",
   "id": "d06d038f",
   "metadata": {},
   "source": [
    "Построим базовый график эмиссии, исходя из текущей модели:"
   ]
  },
  {
   "cell_type": "code",
   "execution_count": 36,
   "id": "26199969",
   "metadata": {},
   "outputs": [
    {
     "data": {
      "text/plain": [
       "[<matplotlib.lines.Line2D at 0x2476b17dd30>]"
      ]
     },
     "execution_count": 36,
     "metadata": {},
     "output_type": "execute_result"
    },
    {
     "data": {
      "image/png": "[encoded data removed]",
      "text/plain": [
       "<Figure size 432x288 with 1 Axes>"
      ]
     },
     "metadata": {
      "needs_background": "light"
     },
     "output_type": "display_data"
    }
   ],
   "source": [
    "%matplotlib inline\n",
    "import matplotlib.pyplot as plt\n",
    "\n",
    "x=np.arange(Q0,Qmax,0.1)\n",
    "\n",
    "y=[]\n",
    "\n",
    "for i in x:\n",
    "    y.append(emission(i,a,d,b))\n",
    "\n",
    "plt.plot(x,y)\n",
    "\n"
   ]
  },
  {
   "cell_type": "markdown",
   "id": "d91e0acf",
   "metadata": {},
   "source": [
    "Попробуем изменить формулу, чтобы внести анлок. Для этого введем следующее предположение:\n",
    "при анлоке в момент, когда он происходит, качество падает пропорционально количеству анлокнутых койнов\n",
    "(т.е. в зависимости от того, какой процент анлочится)\n",
    "\n",
    "Для приблизительного подсчета возьмем следующие переменные: первый квартал после запуска (Q=1.3), 10%\n"
   ]
  },
  {
   "cell_type": "code",
   "execution_count": 25,
   "id": "e0860c8f",
   "metadata": {},
   "outputs": [
    {
     "name": "stdout",
     "output_type": "stream",
     "text": [
      "Coins after unlock:432079547.5540199\n"
     ]
    }
   ],
   "source": [
    "Qunlock=1.3\n",
    "\n",
    "Unlock=0.1\n",
    "\n",
    "Qu=emission(Qunlock)\n",
    "\n",
    "CoinsUnlock=Qu*(1-Unlock)\n",
    "\n",
    "print(\"Coins after unlock:\"+str(CoinsUnlock))"
   ]
  },
  {
   "cell_type": "markdown",
   "id": "9999ce62",
   "metadata": {},
   "source": [
    "Воспользуемся этим для пересчета коэффициентов, считая их теми же до момента анлока и изменившимися после:"
   ]
  },
  {
   "cell_type": "code",
   "execution_count": 34,
   "id": "780ce322",
   "metadata": {},
   "outputs": [
    {
     "name": "stdout",
     "output_type": "stream",
     "text": [
      "a (unlock): 538174197.6878573, d (unlock):0.21904508887752086\n"
     ]
    }
   ],
   "source": [
    "(aunl,dunl)=calccoeff(CoinsUnlock,Qunlock,Qmax,TotalCoins)\n",
    "\n",
    "print(\"a (unlock): \"+str(aunl)+\", d (unlock):\"+str(dunl))"
   ]
  },
  {
   "cell_type": "markdown",
   "id": "51868355",
   "metadata": {},
   "source": [
    "Построим новый график:"
   ]
  },
  {
   "cell_type": "code",
   "execution_count": 37,
   "id": "8603c659",
   "metadata": {},
   "outputs": [
    {
     "data": {
      "text/plain": [
       "[<matplotlib.lines.Line2D at 0x2476b1e7d00>]"
      ]
     },
     "execution_count": 37,
     "metadata": {},
     "output_type": "execute_result"
    },
    {
     "data": {
      "image/png": "[encoded data removed]",
      "text/plain": [
       "<Figure size 432x288 with 1 Axes>"
      ]
     },
     "metadata": {
      "needs_background": "light"
     },
     "output_type": "display_data"
    }
   ],
   "source": [
    "x=np.arange(Q0,Qmax,0.1)\n",
    "\n",
    "y=[]\n",
    "\n",
    "for i in x:\n",
    "    if i<Qunlock:\n",
    "        y.append(emission(i,a,d,b))\n",
    "    else:\n",
    "        y.append(emission(i,aunl,dunl,b))\n",
    "        \n",
    "\n",
    "plt.plot(x,y)"
   ]
  },
  {
   "cell_type": "code",
   "execution_count": null,
   "id": "1727ba9e",
   "metadata": {},
   "outputs": [],
   "source": []
  }
 ],
 "metadata": {
  "kernelspec": {
   "display_name": "Python 3 (ipykernel)",
   "language": "python",
   "name": "python3"
  },
  "language_info": {
   "codemirror_mode": {
    "name": "ipython",
    "version": 3
   },
   "file_extension": ".py",
   "mimetype": "text/x-python",
   "name": "python",
   "nbconvert_exporter": "python",
   "pygments_lexer": "ipython3",
   "version": "3.9.7"
  }
 },
 "nbformat": 4,
 "nbformat_minor": 5
}
